{
 "cells": [
  {
   "cell_type": "code",
   "execution_count": 1,
   "metadata": {
    "collapsed": true
   },
   "outputs": [],
   "source": [
    "from matplotlib import pyplot as plt\n",
    "import pickle"
   ]
  },
  {
   "cell_type": "code",
   "execution_count": 2,
   "metadata": {
    "collapsed": true
   },
   "outputs": [],
   "source": [
    "emojis = []\n",
    "counts = []\n",
    "with open('data/stat.txt') as fin:\n",
    "    for line in fin:\n",
    "        emoji = line[0]\n",
    "        cnt = int(line[2:])\n",
    "        emojis.append(emoji)\n",
    "        counts.append(cnt)"
   ]
  },
  {
   "cell_type": "code",
   "execution_count": 3,
   "metadata": {},
   "outputs": [
    {
     "data": {
      "image/png": "[encoded data removed]",
      "text/plain": [
       "<matplotlib.figure.Figure at 0x1068f1588>"
      ]
     },
     "metadata": {},
     "output_type": "display_data"
    }
   ],
   "source": [
    "plt.bar(range(40), counts[:40])\n",
    "plt.show()"
   ]
  },
  {
   "cell_type": "code",
   "execution_count": 4,
   "metadata": {
    "collapsed": true
   },
   "outputs": [],
   "source": [
    "n = len(counts)\n",
    "covered = [counts[0]] * n\n",
    "for i in range(1, len(counts)):\n",
    "    covered[i] = covered[i-1] + counts[i]\n",
    "total = covered[-1]\n",
    "covered = [x / total for x in covered]"
   ]
  },
  {
   "cell_type": "code",
   "execution_count": 7,
   "metadata": {},
   "outputs": [
    {
     "data": {
      "image/png": "[encoded data removed]",
      "text/plain": [
       "<matplotlib.figure.Figure at 0x106c72a58>"
      ]
     },
     "metadata": {},
     "output_type": "display_data"
    }
   ],
   "source": [
    "plt.plot(range(300), covered[:300])\n",
    "plt.plot(range(300), [0.9]*300)\n",
    "plt.show()"
   ]
  },
  {
   "cell_type": "code",
   "execution_count": 8,
   "metadata": {
    "collapsed": true
   },
   "outputs": [],
   "source": [
    "with open('data/selected.txt', 'wb') as fout:\n",
    "    fout.write(''.join(emojis[:100]).encode('utf8'))\n",
    "    fout.write(b'\\n')"
   ]
  },
  {
   "cell_type": "code",
   "execution_count": 9,
   "metadata": {
    "scrolled": true
   },
   "outputs": [
    {
     "name": "stdout",
     "output_type": "stream",
     "text": [
      "😂\n",
      "😍\n",
      "😭\n",
      "❤\n",
      "🔥\n",
      "😊\n",
      "👏\n",
      "🏽\n",
      "😩\n",
      "🏼\n",
      "💕\n",
      "🏻\n",
      "🏾\n",
      "😘\n",
      "✨\n",
      "💯\n",
      "🙏\n",
      "🌹\n",
      "💀\n",
      "🙄\n",
      "🙌\n",
      "🎉\n",
      "👌\n",
      "♥\n",
      "💙\n",
      "👍\n",
      "🙃\n",
      "👀\n",
      "💖\n",
      "💪\n",
      "☺\n",
      "💋\n",
      "😎\n",
      "💜\n",
      "😉\n",
      "💥\n",
      "😳\n",
      "💗\n",
      "👉\n",
      "♀\n",
      "💞\n",
      "😏\n",
      "😁\n",
      "😅\n",
      "😈\n",
      "⚡\n",
      "💓\n",
      "😢\n",
      "😜\n",
      "😱\n",
      "😒\n",
      "😌\n",
      "🎶\n",
      "♡\n",
      "★\n",
      "🌟\n",
      "🏆\n",
      "💛\n",
      "🙂\n",
      "💦\n",
      "😋\n",
      "🙈\n",
      "✌\n",
      "👇\n",
      "💘\n",
      "💔\n",
      "💚\n",
      "👑\n",
      "😆\n",
      "😴\n",
      "➡\n",
      "👊\n",
      "😻\n",
      "😀\n",
      "✊\n",
      "🌸\n",
      "💃\n",
      "❄\n",
      "😫\n",
      "😇\n",
      "😔\n",
      "😛\n",
      "😄\n",
      "🐐\n",
      "♂\n",
      "🚨\n",
      "😤\n",
      "🗣\n",
      "👅\n",
      "😬\n",
      "✔\n",
      "😡\n",
      "💰\n",
      "❗\n",
      "🎈\n",
      "⚽\n",
      "😕\n",
      "📷\n",
      "💫\n",
      "✅\n",
      "\n",
      "\n"
     ]
    }
   ],
   "source": [
    "with open('data/selected.txt', 'rb') as fin:\n",
    "    for ch in fin.readline().decode('utf-8'):\n",
    "        print(ch)"
   ]
  },
  {
   "cell_type": "code",
   "execution_count": 10,
   "metadata": {
    "collapsed": true
   },
   "outputs": [],
   "source": [
    "with open('data/plain_dataset.pickle', 'rb') as fin:\n",
    "    X, Y = pickle.load(fin)"
   ]
  },
  {
   "cell_type": "code",
   "execution_count": 11,
   "metadata": {
    "collapsed": true
   },
   "outputs": [],
   "source": [
    "with open('data/dataset.pickle', 'rb') as fin:\n",
    "    dataset = pickle.load(fin)"
   ]
  },
  {
   "cell_type": "code",
   "execution_count": 2,
   "metadata": {
    "collapsed": true
   },
   "outputs": [],
   "source": [
    "with open('data/plain_dataset_meta.pickle', 'rb') as fin:\n",
    "    dataset_meta = pickle.load(fin)"
   ]
  },
  {
   "cell_type": "code",
   "execution_count": 15,
   "metadata": {
    "collapsed": true
   },
   "outputs": [],
   "source": [
    "def recover_sent(tokens, predict):\n",
    "    alphabet = dataset_meta['alphabet']\n",
    "    emojis = dataset_meta['emoji']\n",
    "    return ''.join(alphabet[t] for t in tokens), emojis[predict]\n",
    "\n",
    "def recover_n(n):\n",
    "    return recover_sent(X[n], Y[n])"
   ]
  },
  {
   "cell_type": "code",
   "execution_count": 16,
   "metadata": {},
   "outputs": [
    {
     "name": "stdout",
     "output_type": "stream",
     "text": [
      "('[START]bed, stay in bed... the feeling of your skin locked in my head. http t.co', '😍')\n",
      "(\"[START]steph curry is steph curry though it's was only that one game though lmao\", '😂')\n",
      "('[START]you know it was man', '😂')\n",
      "(\"[START]welcome n we've been looking forward to meeting you!it's gunna be a good un\", '👌')\n",
      "('[START]dont forget about the mass streaming tonight!! starting at npm kst!! url', '😊')\n",
      "('[START]yep!! they are shooting together!! happy na ang neyshen!! url', '😍')\n",
      "(\"[START]i'm not sure why we're having a bikini party in january but i'm not complaining url\", '😏')\n",
      "(\"[START]since its a new year.....my new year's resolution is to get to married\", '💕')\n",
      "('[START]runtown mad over you', '❤')\n",
      "('[START]i fucked with somebody nigga before and ima expose ... tf this gotta do with me ? url', '💀')\n",
      "(\"[START]do you think she's cute? yes or nah? yeeeeeeesss url\", '💖')\n",
      "(\"[START]does anybody else's cat sleep with their tongue out like this?\", '😂')\n",
      "(\"[START]can y'all niggas stop hating on obama like hop off trump is stupid af for ever and always!!!\", '😴')\n",
      "(\"[START]i'll forever love url\", '💀')\n",
      "('[START]never been that type to force it', '😩')\n",
      "('[START]healthy new years resolutions url', '🎉')\n",
      "('[START]envyavenue that arch by said energizer. url', '📷')\n",
      "('[START]da mf gasway bitch url', '🏽')\n",
      "('[START]really papa g am totally speachless', '😍')\n",
      "('[START]hate how ur bed seems nx cosier in the mornings', '😭')\n"
     ]
    }
   ],
   "source": [
    "for i in range(80, 100):\n",
    "    print(recover_n(i))"
   ]
  },
  {
   "cell_type": "code",
   "execution_count": 11,
   "metadata": {
    "scrolled": false
   },
   "outputs": [
    {
     "data": {
      "text/plain": [
       "'🎉\", \"🎈\", \"🏽\", \"🙄\", \"👑\", \"✨\", \"💞\", \"💕\", \"❤\", \"😏\", \"🔥\", \"😎\", \"💀\", \"😂\", \"😍\", \"😊\", \"😈\", \"♥\", \"💔\", \"😅\", \"🌟\", \"😜\", \"😭\", \"💗\", \"😋\", \"🌹\", \"😩\", \"💦\", \"♂\", \"🙏\", \"☺\", \"💯\", \"😆\", \"➡\", \"🙌\", \"💜\", \"✔\", \"💓\", \"💙\", \"😀\", \"👉\", \"😬\", \"👌\", \"😘\", \"♡\", \"🙃\", \"😁\", \"🙂\", \"👀\", \"💃\", \"💛\", \"👏\", \"👍\", \"😛\", \"💪\", \"💋\", \"😻\", \"😉\", \"😄\", \"😴\", \"💥\", \"💖\", \"😤\", \"🚨\", \"⚡\", \"😳\", \"🎶\", \"🗣\", \"👅\", \"😫\", \"✌\", \"💚\", \"🙈\", \"😇\", \"😒\", \"😌\", \"❗\", \"😢\", \"😕\", \"👊\", \"🌙\", \"👇\", \"😔\", \"❄\", \"💘\", \"✊\", \"💫\", \"😡\", \"♀\", \"🏆\", \"🌸\", \"★\", \"😱\", \"📷\", \"💰\", \"⚽\", \"🐐\", \"✅'"
      ]
     },
     "execution_count": 11,
     "metadata": {},
     "output_type": "execute_result"
    }
   ],
   "source": [
    "'\", \"'.join(dataset_meta['emoji'])"
   ]
  },
  {
   "cell_type": "code",
   "execution_count": 12,
   "metadata": {
    "collapsed": true
   },
   "outputs": [],
   "source": [
    "from tensorflow import GraphDef"
   ]
  },
  {
   "cell_type": "code",
   "execution_count": 13,
   "metadata": {
    "collapsed": true
   },
   "outputs": [],
   "source": [
    "g = GraphDef()"
   ]
  },
  {
   "cell_type": "code",
   "execution_count": 14,
   "metadata": {
    "collapsed": true
   },
   "outputs": [],
   "source": [
    "with open('export/inference.pb', 'rb') as fin:\n",
    "    sg = fin.read()\n",
    "g.ParseFromString(sg)"
   ]
  },
  {
   "cell_type": "code",
   "execution_count": 19,
   "metadata": {},
   "outputs": [],
   "source": [
    "with open('/tmp/graph.txt', 'w') as fout:\n",
    "    fout.write(str(g))"
   ]
  },
  {
   "cell_type": "code",
   "execution_count": 20,
   "metadata": {
    "collapsed": true
   },
   "outputs": [],
   "source": [
    "with open('export/frozen.pb', 'rb') as fin:\n",
    "    sg = fin.read()\n",
    "g.ParseFromString(sg)\n",
    "with open('/tmp/graph2.txt', 'w') as fout:\n",
    "    fout.write(str(g))"
   ]
  },
  {
   "cell_type": "code",
   "execution_count": null,
   "metadata": {
    "collapsed": true
   },
   "outputs": [],
   "source": []
  }
 ],
 "metadata": {
  "kernelspec": {
   "display_name": "Python 3",
   "language": "python",
   "name": "python3"
  },
  "language_info": {
   "codemirror_mode": {
    "name": "ipython",
    "version": 3
   },
   "file_extension": ".py",
   "mimetype": "text/x-python",
   "name": "python",
   "nbconvert_exporter": "python",
   "pygments_lexer": "ipython3",
   "version": "3.6.1"
  }
 },
 "nbformat": 4,
 "nbformat_minor": 2
}
