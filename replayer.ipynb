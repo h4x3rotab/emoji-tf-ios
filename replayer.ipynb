{
 "cells": [
  {
   "cell_type": "code",
   "execution_count": null,
   "metadata": {},
   "outputs": [],
   "source": [
    "from keras.models import Model, load_model\n",
    "from keras.preprocessing import sequence\n",
    "import keras\n",
    "import numpy as np\n",
    "import pickle\n",
    "import random\n",
    "import tensorflow as tf"
   ]
  },
  {
   "cell_type": "code",
   "execution_count": null,
   "metadata": {
    "collapsed": true
   },
   "outputs": [],
   "source": [
    "model = load_model('p5-40-test.hdf5')"
   ]
  },
  {
   "cell_type": "code",
   "execution_count": null,
   "metadata": {
    "collapsed": true
   },
   "outputs": [],
   "source": [
    "with open('data/plain_dataset_meta.pickle', 'rb') as fin:\n",
    "    dataset_meta = pickle.load(fin)"
   ]
  },
  {
   "cell_type": "code",
   "execution_count": null,
   "metadata": {
    "collapsed": true
   },
   "outputs": [],
   "source": [
    "num_alphabet = 36  # (3+33)\n",
    "num_cat = 99 # (1+98)\n",
    "\n",
    "T_PAD = 0\n",
    "T_START = 1\n",
    "T_OOV = 2\n",
    "def convert_to_input(sent):\n",
    "    aidx = dataset_meta['alphabet_idx']\n",
    "    sent = sent.lower()\n",
    "    f = [T_START]\n",
    "    for ch in sent:\n",
    "        if ch in aidx:\n",
    "            f.append(aidx[ch])\n",
    "        else:\n",
    "            pass  # skip OOV\n",
    "    return f"
   ]
  },
  {
   "cell_type": "code",
   "execution_count": null,
   "metadata": {
    "collapsed": true
   },
   "outputs": [],
   "source": [
    "def top_n_predicate(pred, n=5):\n",
    "    emojis = dataset_meta['emoji']\n",
    "    preds = enumerate(list(pred.reshape(pred.shape[1],))[:-1])\n",
    "    preds = sorted(preds, key=lambda x: -x[1])[:n]\n",
    "    if False:\n",
    "        print(preds)\n",
    "    return [emojis[idx] for idx, pred in preds]\n",
    "\n",
    "def run(sent):\n",
    "    input_sample = convert_to_input(sent)\n",
    "    input_x = sequence.pad_sequences([input_sample], maxlen=120)\n",
    "    val = model.predict(input_x)\n",
    "    return top_n_predicate(val)"
   ]
  },
  {
   "cell_type": "code",
   "execution_count": null,
   "metadata": {},
   "outputs": [],
   "source": [
    "run('I\\'ll continue on this path for 2017.')"
   ]
  },
  {
   "cell_type": "code",
   "execution_count": null,
   "metadata": {},
   "outputs": [],
   "source": [
    "run('thank you sis')"
   ]
  },
  {
   "cell_type": "code",
   "execution_count": null,
   "metadata": {},
   "outputs": [],
   "source": [
    "run('Don\\'t forget to wrap it up, twice')"
   ]
  },
  {
   "cell_type": "code",
   "execution_count": null,
   "metadata": {},
   "outputs": [],
   "source": [
    "run('I wanna go home and go to sleep')"
   ]
  },
  {
   "cell_type": "code",
   "execution_count": null,
   "metadata": {},
   "outputs": [],
   "source": [
    "run('happy new year! God Bless')"
   ]
  },
  {
   "cell_type": "code",
   "execution_count": null,
   "metadata": {},
   "outputs": [],
   "source": [
    "run('HAPPY NEW YEAR here\\'s to many more amazing memories')"
   ]
  },
  {
   "cell_type": "code",
   "execution_count": null,
   "metadata": {},
   "outputs": [],
   "source": [
    "run('day 1 of 365 thank you God for allowing me to see this day')"
   ]
  },
  {
   "cell_type": "code",
   "execution_count": null,
   "metadata": {},
   "outputs": [],
   "source": [
    "run('The art of knowing is knowing to \"IGNORE\". Good morning')"
   ]
  },
  {
   "cell_type": "code",
   "execution_count": null,
   "metadata": {},
   "outputs": [],
   "source": [
    "run('Nope. I Know He Likes Telling Stories')"
   ]
  },
  {
   "cell_type": "code",
   "execution_count": null,
   "metadata": {},
   "outputs": [],
   "source": [
    "run('but they won\\'t listen')"
   ]
  },
  {
   "cell_type": "code",
   "execution_count": null,
   "metadata": {},
   "outputs": [],
   "source": [
    "run('Bitcoin has reached a new all-time high of $1,600!')"
   ]
  },
  {
   "cell_type": "code",
   "execution_count": null,
   "metadata": {},
   "outputs": [],
   "source": [
    "seq = convert_to_input('day 1 of 365 thank you God for allowing me to see this day')\n",
    "sequence.pad_sequences([seq], maxlen=120)"
   ]
  },
  {
   "cell_type": "code",
   "execution_count": null,
   "metadata": {
    "collapsed": true
   },
   "outputs": [],
   "source": []
  }
 ],
 "metadata": {
  "kernelspec": {
   "display_name": "Python 3",
   "language": "python",
   "name": "python3"
  },
  "language_info": {
   "codemirror_mode": {
    "name": "ipython",
    "version": 3
   },
   "file_extension": ".py",
   "mimetype": "text/x-python",
   "name": "python",
   "nbconvert_exporter": "python",
   "pygments_lexer": "ipython3",
   "version": "3.6.1"
  }
 },
 "nbformat": 4,
 "nbformat_minor": 2
}
