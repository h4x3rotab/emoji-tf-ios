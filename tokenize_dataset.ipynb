{
 "cells": [
  {
   "cell_type": "code",
   "execution_count": 4,
   "metadata": {
    "collapsed": true
   },
   "outputs": [],
   "source": [
    "import pickle\n",
    "from collections import defaultdict"
   ]
  },
  {
   "cell_type": "code",
   "execution_count": 5,
   "metadata": {
    "collapsed": true
   },
   "outputs": [],
   "source": [
    "with open('data/dataset.pickle', 'rb') as fin:\n",
    "    dataset = pickle.load(fin)"
   ]
  },
  {
   "cell_type": "code",
   "execution_count": 6,
   "metadata": {
    "collapsed": true
   },
   "outputs": [],
   "source": [
    "chc = defaultdict(int)\n",
    "for emoji, items in dataset.items():\n",
    "    for sent in items:\n",
    "        for ch in sent:\n",
    "            chc[ch] += 1"
   ]
  },
  {
   "cell_type": "code",
   "execution_count": 7,
   "metadata": {
    "collapsed": true
   },
   "outputs": [],
   "source": [
    "CH_PADDING = 0\n",
    "CH_START = 1\n",
    "CH_OOV = 2\n",
    "\n",
    "ch_stats = sorted(chc.items(), key=lambda x: -x[1])\n",
    "alphabet = [ch for ch, _ in ch_stats[:33]]\n",
    "idx_alphabet = {ch: idx+3 for idx, ch in enumerate(alphabet)}\n",
    "idx_emoji = {emoji: idx for idx, emoji in enumerate(dataset.keys())}\n"
   ]
  },
  {
   "cell_type": "code",
   "execution_count": 5,
   "metadata": {
    "scrolled": false
   },
   "outputs": [
    {
     "name": "stdout",
     "output_type": "stream",
     "text": [
      "defaultdict(<class 'int'>, {'good': 3974488, 'skiped-oov': 84422, 'skiped-invalid-sent': 50})\n"
     ]
    }
   ],
   "source": [
    "c = defaultdict(int)\n",
    "plain_x = []\n",
    "plain_y = []\n",
    "for emoji, items in dataset.items():\n",
    "    for sent in items:\n",
    "        seq = [CH_START]\n",
    "        for ch in sent:\n",
    "            if ch in idx_alphabet:\n",
    "                seq.append(idx_alphabet[ch])\n",
    "            else:\n",
    "                c['skiped-oov'] += 1\n",
    "        if len(seq) == 1:\n",
    "            c['skiped-invalid-sent'] += 1\n",
    "            continue\n",
    "        plain_x.append(seq)\n",
    "        plain_y.append(idx_emoji[emoji])\n",
    "        c['good'] += 1\n",
    "print(c)"
   ]
  },
  {
   "cell_type": "code",
   "execution_count": 15,
   "metadata": {
    "collapsed": true
   },
   "outputs": [],
   "source": [
    "import random\n",
    "SEED = 0\n",
    "random.seed(SEED)\n",
    "random.shuffle(plain_x)\n",
    "random.seed(SEED)\n",
    "random.shuffle(plain_y)"
   ]
  },
  {
   "cell_type": "code",
   "execution_count": 10,
   "metadata": {},
   "outputs": [
    {
     "data": {
      "text/plain": [
       "{0: '🎉',\n",
       " 1: '🎈',\n",
       " 2: '🏽',\n",
       " 3: '🙄',\n",
       " 4: '👑',\n",
       " 5: '✨',\n",
       " 6: '💞',\n",
       " 7: '💕',\n",
       " 8: '❤',\n",
       " 9: '😏',\n",
       " 10: '🔥',\n",
       " 11: '😎',\n",
       " 12: '💀',\n",
       " 13: '😂',\n",
       " 14: '😍',\n",
       " 15: '😊',\n",
       " 16: '😈',\n",
       " 17: '♥',\n",
       " 18: '💔',\n",
       " 19: '😅',\n",
       " 20: '🌟',\n",
       " 21: '😜',\n",
       " 22: '😭',\n",
       " 23: '💗',\n",
       " 24: '😋',\n",
       " 25: '🌹',\n",
       " 26: '😩',\n",
       " 27: '💦',\n",
       " 28: '♂',\n",
       " 29: '🙏',\n",
       " 30: '☺',\n",
       " 31: '💯',\n",
       " 32: '😆',\n",
       " 33: '➡',\n",
       " 34: '🙌',\n",
       " 35: '💜',\n",
       " 36: '✔',\n",
       " 37: '💓',\n",
       " 38: '💙',\n",
       " 39: '😀',\n",
       " 40: '👉',\n",
       " 41: '😬',\n",
       " 42: '👌',\n",
       " 43: '😘',\n",
       " 44: '♡',\n",
       " 45: '🙃',\n",
       " 46: '😁',\n",
       " 47: '🙂',\n",
       " 48: '👀',\n",
       " 49: '💃',\n",
       " 50: '💛',\n",
       " 51: '👏',\n",
       " 52: '👍',\n",
       " 53: '😛',\n",
       " 54: '💪',\n",
       " 55: '💋',\n",
       " 56: '😻',\n",
       " 57: '😉',\n",
       " 58: '😄',\n",
       " 59: '😴',\n",
       " 60: '💥',\n",
       " 61: '💖',\n",
       " 62: '😤',\n",
       " 63: '🚨',\n",
       " 64: '⚡',\n",
       " 65: '😳',\n",
       " 66: '🎶',\n",
       " 67: '🗣',\n",
       " 68: '👅',\n",
       " 69: '😫',\n",
       " 70: '✌',\n",
       " 71: '💚',\n",
       " 72: '🙈',\n",
       " 73: '😇',\n",
       " 74: '😒',\n",
       " 75: '😌',\n",
       " 76: '❗',\n",
       " 77: '😢',\n",
       " 78: '😕',\n",
       " 79: '👊',\n",
       " 80: '🌙',\n",
       " 81: '👇',\n",
       " 82: '😔',\n",
       " 83: '❄',\n",
       " 84: '💘',\n",
       " 85: '✊',\n",
       " 86: '💫',\n",
       " 87: '😡',\n",
       " 88: '♀',\n",
       " 89: '🏆',\n",
       " 90: '🌸',\n",
       " 91: '★',\n",
       " 92: '😱',\n",
       " 93: '📷',\n",
       " 94: '💰',\n",
       " 95: '⚽',\n",
       " 96: '🐐',\n",
       " 97: '✅'}"
      ]
     },
     "execution_count": 10,
     "metadata": {},
     "output_type": "execute_result"
    }
   ],
   "source": [
    "temp = {}\n",
    "num = 0\n",
    "for each in idx_emoji:\n",
    "    temp[num] = each\n",
    "    num += 1\n",
    "temp"
   ]
  },
  {
   "cell_type": "code",
   "execution_count": 3,
   "metadata": {},
   "outputs": [
    {
     "ename": "NameError",
     "evalue": "name 'pickle' is not defined",
     "output_type": "error",
     "traceback": [
      "\u001b[0;31m---------------------------------------------------------------------------\u001b[0m",
      "\u001b[0;31mNameError\u001b[0m                                 Traceback (most recent call last)",
      "\u001b[0;32m<ipython-input-3-03f2afd9ed80>\u001b[0m in \u001b[0;36m<module>\u001b[0;34m()\u001b[0m\n\u001b[1;32m      1\u001b[0m \u001b[0;32mwith\u001b[0m \u001b[0mopen\u001b[0m\u001b[0;34m(\u001b[0m\u001b[0;34m'data/plain_dataset.pickle'\u001b[0m\u001b[0;34m,\u001b[0m \u001b[0;34m'wb'\u001b[0m\u001b[0;34m)\u001b[0m \u001b[0;32mas\u001b[0m \u001b[0mfout\u001b[0m\u001b[0;34m:\u001b[0m\u001b[0;34m\u001b[0m\u001b[0m\n\u001b[0;32m----> 2\u001b[0;31m     \u001b[0mpickle\u001b[0m\u001b[0;34m.\u001b[0m\u001b[0mdump\u001b[0m\u001b[0;34m(\u001b[0m\u001b[0;34m(\u001b[0m\u001b[0mplain_x\u001b[0m\u001b[0;34m,\u001b[0m \u001b[0mplain_y\u001b[0m\u001b[0;34m)\u001b[0m\u001b[0;34m,\u001b[0m \u001b[0mfout\u001b[0m\u001b[0;34m)\u001b[0m\u001b[0;34m\u001b[0m\u001b[0m\n\u001b[0m",
      "\u001b[0;31mNameError\u001b[0m: name 'pickle' is not defined"
     ]
    }
   ],
   "source": [
    "with open('data/plain_dataset.pickle', 'wb') as fout:\n",
    "    pickle.dump((plain_x, plain_y), fout)"
   ]
  },
  {
   "cell_type": "code",
   "execution_count": 17,
   "metadata": {
    "collapsed": true
   },
   "outputs": [],
   "source": [
    "with open('data/plain_dataset_meta.pickle', 'wb') as fout:\n",
    "    pickle.dump({\n",
    "        'alphabet': ['[PAD]', '[START]', '[OOV]'] + alphabet,\n",
    "        'emoji': list(dataset.keys()),\n",
    "        'alphabet_idx': idx_alphabet,\n",
    "        'emoji_idx': idx_emoji,\n",
    "    }, fout)"
   ]
  },
  {
   "cell_type": "code",
   "execution_count": 10,
   "metadata": {
    "collapsed": true
   },
   "outputs": [],
   "source": [
    "import json\n",
    "with open('emoji_tmp.json','w') as fin:\n",
    "    fin.write(json.dumps(idx_emoji))"
   ]
  }
 ],
 "metadata": {
  "kernelspec": {
   "display_name": "Python 3",
   "language": "python",
   "name": "python3"
  },
  "language_info": {
   "codemirror_mode": {
    "name": "ipython",
    "version": 3
   },
   "file_extension": ".py",
   "mimetype": "text/x-python",
   "name": "python",
   "nbconvert_exporter": "python",
   "pygments_lexer": "ipython3",
   "version": "3.6.1"
  }
 },
 "nbformat": 4,
 "nbformat_minor": 2
}
